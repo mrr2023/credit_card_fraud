{
 "cells": [
  {
   "cell_type": "code",
   "execution_count": 4,
   "id": "c86b0c15",
   "metadata": {},
   "outputs": [],
   "source": [
    "# Load in relevant modules\n",
    "import matplotlib.pyplot as plt\n",
    "import numpy as np\n",
    "import pandas as pd\n",
    "from sklearn.ensemble import IsolationForest\n",
    "\n",
    "from src.data import prepare_train_valid_test\n",
    "\n",
    "# Turn off SettingWithCopyWarning\n",
    "pd.options.mode.chained_assignment = None"
   ]
  },
  {
   "cell_type": "code",
   "execution_count": 5,
   "id": "619cddce",
   "metadata": {},
   "outputs": [],
   "source": [
    "# Load in the data\n",
    "df = pd.read_csv('data/creditcard.csv')"
   ]
  },
  {
   "cell_type": "code",
   "execution_count": 40,
   "id": "3a1a9eff",
   "metadata": {},
   "outputs": [],
   "source": [
    "# The first step is to create train and test datasets.\n",
    "df_train, _, df_test = prepare_train_valid_test(df, valid_prop=0, test_prop=.3)"
   ]
  },
  {
   "cell_type": "code",
   "execution_count": 113,
   "id": "dbbcb5e0",
   "metadata": {},
   "outputs": [
    {
     "name": "stdout",
     "output_type": "stream",
     "text": [
      "proportion of frauds that are anomalous: 37.24%\n",
      "proportion of not frauds that are anomalous: 0.12%\n"
     ]
    }
   ],
   "source": [
    "# Create variables that need to be passed into isolation forest\n",
    "contamination = len(df_train[df_train['Class'] == 1]) / len(df_train)\n",
    "\n",
    "# Create the isolation forest\n",
    "if_model = IsolationForest(n_estimators=100, contamination=contamination)\n",
    "\n",
    "# Fit the model; note that for this model we are not looking at time\n",
    "if_model.fit(df_train[df_train.columns[1:-1]])\n",
    "\n",
    "# See if there is any overlap between what the model identifies as\n",
    "# anomalous and what is labeled as fraud\n",
    "train_fraud_indices = list(df_train.reset_index()[df_train.reset_index()['Class'] == 1].index)\n",
    "train_no_fraud_indices = list(df_train.reset_index()[df_train.reset_index()['Class'] == 0].index)\n",
    "preds = if_model.predict(df_train[df_train.columns[1:-1]])\n",
    "prop_anomalous_of_frauds = list(preds[train_fraud_indices]).count(-1) / len(preds[train_fraud_indices])\n",
    "prop_anomalous_of_not_frauds = list(preds[train_no_fraud_indices]).count(-1) / len(preds[train_no_fraud_indices])\n",
    "\n",
    "print(f'proportion of frauds that are anomalous: {np.round(100*prop_anomalous_of_frauds, 2)}%')\n",
    "print(f'proportion of not frauds that are anomalous: {np.round(100*prop_anomalous_of_not_frauds, 2)}%')"
   ]
  },
  {
   "cell_type": "code",
   "execution_count": 114,
   "id": "606297c5",
   "metadata": {},
   "outputs": [
    {
     "name": "stdout",
     "output_type": "stream",
     "text": [
      "proportion of frauds that are anomalous: 0.93%\n",
      "proportion of not frauds that are anomalous: 0.13%\n"
     ]
    }
   ],
   "source": [
    "# Verify that results apply to the test set\n",
    "test_fraud_indices = list(df_test.reset_index()[df_test.reset_index()['Class'] == 1].index)\n",
    "test_no_fraud_indices = list(df_test.reset_index()[df_test.reset_index()['Class'] == 0].index)\n",
    "preds = if_model.predict(df_test[df_test.columns[1:-1]])\n",
    "prop_anomalous_of_frauds = list(preds[test_fraud_indices]).count(-1) / len(preds[test_fraud_indices])\n",
    "prop_anomalous_of_not_frauds = list(preds[test_no_fraud_indices]).count(-1) / len(preds[test_no_fraud_indices])\n",
    "\n",
    "print(f'proportion of frauds that are anomalous: {np.round(100*prop_anomalous_of_frauds, 2)}%')\n",
    "print(f'proportion of not frauds that are anomalous: {np.round(100*prop_anomalous_of_not_frauds, 2)}%')"
   ]
  },
  {
   "cell_type": "markdown",
   "id": "87d93d3f",
   "metadata": {},
   "source": [
    "**Takeaway**: Isolation forests don't do a great job of generalizing to the test set and/or there is data drift. Because of this, I am not going to use isolation forests for fraud detection and am going to work with something that is inherently more flexible."
   ]
  }
 ],
 "metadata": {
  "kernelspec": {
   "display_name": "Python 3 (ipykernel)",
   "language": "python",
   "name": "python3"
  },
  "language_info": {
   "codemirror_mode": {
    "name": "ipython",
    "version": 3
   },
   "file_extension": ".py",
   "mimetype": "text/x-python",
   "name": "python",
   "nbconvert_exporter": "python",
   "pygments_lexer": "ipython3",
   "version": "3.10.11"
  }
 },
 "nbformat": 4,
 "nbformat_minor": 5
}
